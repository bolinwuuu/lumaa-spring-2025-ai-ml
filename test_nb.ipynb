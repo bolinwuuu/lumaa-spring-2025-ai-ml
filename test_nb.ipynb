{
 "cells": [
  {
   "cell_type": "code",
   "execution_count": 5,
   "metadata": {},
   "outputs": [],
   "source": [
    "import pandas as pd\n",
    "import numpy as np\n",
    "from sklearn.feature_extraction.text import TfidfVectorizer\n",
    "from sklearn.metrics.pairwise import cosine_similarity\n",
    "import sys\n",
    "import random"
   ]
  },
  {
   "cell_type": "code",
   "execution_count": 9,
   "metadata": {},
   "outputs": [],
   "source": [
    "def sample_csv(input_file, output_file, sample_size=500, random_state=None, seed=42):\n",
    "    random.seed(seed)\n",
    "\n",
    "    df = pd.read_csv(input_file)\n",
    "\n",
    "    sampled_df = df[['Series_Title', 'Overview', 'Genre']].sample(n=sample_size, random_state=random_state)\n",
    "    sampled_df.rename(columns={'Series_Title': 'title'}, inplace=True)\n",
    "    sampled_df['overview'] = sampled_df['Overview'] + ' Genre: ' + sampled_df['Genre']\n",
    "\n",
    "    sampled_df = sampled_df[['title', 'overview']]\n",
    "    sampled_df.to_csv(output_file, index=False)\n",
    "\n",
    "    print(f\"Sampled {sample_size} rows and saved to {output_file}\")"
   ]
  },
  {
   "cell_type": "code",
   "execution_count": 10,
   "metadata": {},
   "outputs": [
    {
     "name": "stdout",
     "output_type": "stream",
     "text": [
      "Sampled 500 rows and saved to data/movie_500.csv\n"
     ]
    }
   ],
   "source": [
    "sample_csv(\"data/imdb_top_1000.csv\", \"data/movie_500.csv\")"
   ]
  },
  {
   "cell_type": "code",
   "execution_count": 21,
   "metadata": {},
   "outputs": [],
   "source": [
    "def load_data(file_path='data/movie_500.csv'):\n",
    "    df = pd.read_csv(file_path)\n",
    "    return df.dropna()"
   ]
  },
  {
   "cell_type": "code",
   "execution_count": 17,
   "metadata": {},
   "outputs": [],
   "source": [
    "def vectorize_text(data):\n",
    "    vectorizer = TfidfVectorizer(stop_words='english')\n",
    "    tfidf_matrix = vectorizer.fit_transform(data)\n",
    "    return vectorizer, tfidf_matrix"
   ]
  },
  {
   "cell_type": "code",
   "execution_count": 18,
   "metadata": {},
   "outputs": [],
   "source": [
    "def recommend(user_input, df, vectorizer, tfidf_matrix, top_n=5):\n",
    "    user_vec = vectorizer.transform([user_input])\n",
    "    similarities = cosine_similarity(user_vec, tfidf_matrix).flatten()\n",
    "    top_indices = similarities.argsort()[-top_n:][::-1]\n",
    "    return df.iloc[top_indices], similarities[top_indices]"
   ]
  },
  {
   "cell_type": "code",
   "execution_count": 23,
   "metadata": {},
   "outputs": [],
   "source": [
    "def main(user_input):\n",
    "    # if len(sys.argv) != 2:\n",
    "    #     print(\"Usage: python recommend.py <user_input>\")\n",
    "    #     sys.exit(1)\n",
    "\n",
    "    # user_input = sys.argv[1]\n",
    "\n",
    "    df = load_data()\n",
    "    vectorizer, tfidf_matrix = vectorize_text(df['overview'])\n",
    "\n",
    "    recommendations, scores = recommend(user_input, df, vectorizer, tfidf_matrix)\n",
    "\n",
    "    print(\"Top Recommendations:\")\n",
    "    for i, (title, score) in enumerate(zip(recommendations['title'], scores), 1):\n",
    "        print(f\"{i}. {title}\")"
   ]
  },
  {
   "cell_type": "code",
   "execution_count": 24,
   "metadata": {},
   "outputs": [
    {
     "name": "stdout",
     "output_type": "stream",
     "text": [
      "Top Recommendations:\n",
      "1. Aliens\n",
      "2. The Man Who Would Be King\n",
      "3. Ghostbusters\n",
      "4. Clerks\n",
      "5. Blade Runner\n"
     ]
    }
   ],
   "source": [
    "main(\"I like action movies set in space\")"
   ]
  }
 ],
 "metadata": {
  "kernelspec": {
   "display_name": "mlprod",
   "language": "python",
   "name": "python3"
  },
  "language_info": {
   "codemirror_mode": {
    "name": "ipython",
    "version": 3
   },
   "file_extension": ".py",
   "mimetype": "text/x-python",
   "name": "python",
   "nbconvert_exporter": "python",
   "pygments_lexer": "ipython3",
   "version": "3.9.18"
  }
 },
 "nbformat": 4,
 "nbformat_minor": 2
}
